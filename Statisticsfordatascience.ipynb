import numpy as np
import pandas as pd
import matplotlib.pyplot as plt
import seaborn as sns

%matplotlib inline
Introduction and Descriptive Statistics
x = [1, 3, 3, 4, 5, 6, 6, 7, 8, 8]
X = pd.DataFrame(x)
X.describe()
0
count	10.000000
mean	5.100000
std	2.330951
min	1.000000
25%	3.250000
50%	5.500000
75%	6.750000
max	8.000000
Introduction to Probability Distribution
Z = 1.50
m = 150
sigma = 20

x = Z*sigma + m
print(x)
180.0
Z = -2.4
m = 134.5
sigma = 7.0

y = Z*sigma + m
print(y)
117.7
Hypothesis Testing
df = pd.read_csv("teachingratings.csv")
df.shape
(463, 19)
r = 439
c = 19
DF = (r-1)*(c-1)
print(DF)
7884
x = 91.54
m = 63.18
sigma = 13.27

Z = (x-m)/sigma
print(Z)
2.1371514694800307
#From Z table for probability of 0.25 = -0.67

Z = -0.67
m = 90
sigma = 20

time = Z*sigma + m
print(time)
76.6
x = 6.90
mu = 5.85
sd = 0.35

Z = (x-mu)/sd
print(Z)
3.000000000000002
