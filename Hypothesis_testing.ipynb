cognitiveclass.ai logo
Hypothesis Testing
Estimated time needed: 30 minutes

The goal of hypothesis testing is to answer the question, “Given a sample and an apparent effect, what is the probability of seeing such an effect by chance?” The first step is to quantify the size of the apparent effect by choosing a test statistic (t-test, ANOVA, etc). The next step is to define a null hypothesis, which is a model of the system based on the assumption that the apparent effect is not real. Then compute the p-value, which is the probability of the null hypothesis being true, and finally interpret the result of the p-value, if the value is low, the effect is said to be statistically significant, which means that the null hypothesis may not be accurate.

Objectives
Import Libraries
Lab exercises
Stating the hypothesis
Levene's Test for equality
Preparing your data for hypothesis testing
Quiz
Import Libraries
All Libraries required for this lab are listed below. The libraries pre-installed on Skills Network Labs are commented. If you run this notebook in a different environment, e.g. your desktop, you may need to uncomment and install certain libraries.

# !pip install pandas
# !pip install numpy
# !pip install matplotlib
# !pip install seaborn
# !pip install scipy
Import the libraries we need for the lab

import numpy as np
import pandas as pd
import seaborn as sns
import matplotlib.pyplot as plt
import scipy.stats
Read in the csv file from the URL using the request library

ratings_url = 'teachingratings.csv'
ratings_df = pd.read_csv(ratings_url)
ratings_df
minority	age	gender	credits	beauty	eval	division	native	tenure	students	allstudents	prof	PrimaryLast	vismin	female	single_credit	upper_division	English_speaker	tenured_prof
0	yes	36	female	more	0.289916	4.3	upper	yes	yes	24	43	1	0	1	1	0	1	1	1
1	yes	36	female	more	0.289916	3.7	upper	yes	yes	86	125	1	0	1	1	0	1	1	1
2	yes	36	female	more	0.289916	3.6	upper	yes	yes	76	125	1	0	1	1	0	1	1	1
3	yes	36	female	more	0.289916	4.4	upper	yes	yes	77	123	1	1	1	1	0	1	1	1
4	no	59	male	more	-0.737732	4.5	upper	yes	yes	17	20	2	0	0	0	0	1	1	1
...	...	...	...	...	...	...	...	...	...	...	...	...	...	...	...	...	...	...	...
458	no	37	male	more	0.933396	3.5	upper	yes	yes	15	17	40	1	0	0	0	1	1	1
459	no	58	female	more	0.111563	3.5	upper	yes	yes	26	34	47	1	0	1	0	1	1	1
460	no	42	male	more	-0.900580	4.0	upper	yes	yes	45	86	61	1	0	0	0	1	1	1
461	no	39	male	more	0.643014	4.3	upper	yes	yes	22	29	62	1	0	0	0	1	1	1
462	no	51	female	more	0.391822	3.0	upper	yes	yes	47	67	69	1	0	1	0	1	1	1
463 rows × 19 columns

Lab Exercises
T-Test: Using the teachers' rating data set, does gender affect teaching evaluation rates?
We will be using the t-test for independent samples. For the independent t-test, the following assumptions must be met.

One independent, categorical variable with two levels or group
One dependent continuous variable
Independence of the observations. Each subject should belong to only one group. There is no relationship between the observations in each group.
The dependent variable must follow a normal distribution
Assumption of homogeneity of variance
State the hypothesis

µµ
 ("there is no difference in evaluation scores between male and females")
µµ
 ("there is a difference in evaluation scores between male and females")
We can plot the dependent variable with a historgram

ax = sns.distplot(ratings_df['eval'],
                  bins=20,
                  kde=True,
                  color='red',
                  hist_kws={"linewidth": 15,'alpha':1})
ax.set(xlabel='Normal Distribution', ylabel='Frequency')
## we can assume it is normal
[Text(0, 0.5, 'Frequency'), Text(0.5, 0, 'Normal Distribution')]

We can use the Levene's Test in Python to check test significance

scipy.stats.levene(ratings_df[ratings_df['gender'] == 'female']['eval'],
                   ratings_df[ratings_df['gender'] == 'male']['eval'], center='mean')

# since the p-value is greater than 0.05 we can assume equality of variance
LeveneResult(statistic=0.1903292243529225, pvalue=0.6628469836244741)
Use the ttest_ind from the scipy_stats library

scipy.stats.ttest_ind(ratings_df[ratings_df['gender'] == 'female']['eval'],
                   ratings_df[ratings_df['gender'] == 'male']['eval'], equal_var = True)
Ttest_indResult(statistic=-3.249937943510772, pvalue=0.0012387609449522217)
Conclusion: Since the p-value is less than alpha value 0.05, we reject the null hypothesis as there is enough proof that there is a statistical difference in teaching evaluations based on gender

ANOVA: Using the teachers' rating data set, does beauty score for instructors differ by age?
First, we group the data into cateries as the one-way ANOVA can't work with continuous variable - using the example from the video, we will create a new column for this newly assigned group our categories will be teachers that are:

40 years and younger
between 40 and 57 years
57 years and older
ratings_df.loc[(ratings_df['age'] <= 40), 'age_group'] = '40 years and younger'
ratings_df.loc[(ratings_df['age'] > 40)&(ratings_df['age'] < 57), 'age_group'] = 'between 40 and 57 years'
ratings_df.loc[(ratings_df['age'] >= 57), 'age_group'] = '57 years and older'
State the hypothesis

µµµ
 (the three population means are equal)
 At least one of the means differ
Test for equality of variance

scipy.stats.levene(ratings_df[ratings_df['age_group'] == '40 years and younger']['beauty'],
                   ratings_df[ratings_df['age_group'] == 'between 40 and 57 years']['beauty'], 
                   ratings_df[ratings_df['age_group'] == '57 years and older']['beauty'], 
                   center='mean')
# since the p-value is less than 0.05, the variance are not equal, for the purposes of this exercise, we will move along
LeveneResult(statistic=8.60005668392585, pvalue=0.0002153661809934714)
First, separate the three samples (one for each job category) into a variable each.

forty_lower = ratings_df[ratings_df['age_group'] == '40 years and younger']['beauty']
forty_fiftyseven = ratings_df[ratings_df['age_group'] == 'between 40 and 57 years']['beauty']
fiftyseven_older = ratings_df[ratings_df['age_group'] == '57 years and older']['beauty']
Now, run a one-way ANOVA.

f_statistic, p_value = scipy.stats.f_oneway(forty_lower, forty_fiftyseven, fiftyseven_older)
print("F_Statistic: {0}, P-Value: {1}".format(f_statistic,p_value))
F_Statistic: 17.597558611010122, P-Value: 4.3225489816137975e-08
Conclusion: Since the p-value is less than 0.05, we will reject the null hypothesis as there is significant evidence that at least one of the means differ.

ANOVA: Using the teachers' rating data set, does teaching evaluation score for instructors differ by age?
Test for equality of variance

scipy.stats.levene(ratings_df[ratings_df['age_group'] == '40 years and younger']['eval'],
                   ratings_df[ratings_df['age_group'] == 'between 40 and 57 years']['eval'], 
                   ratings_df[ratings_df['age_group'] == '57 years and older']['eval'], 
                   center='mean')
LeveneResult(statistic=3.820237661494229, pvalue=0.02262141852021939)
forty_lower_eval = ratings_df[ratings_df['age_group'] == '40 years and younger']['eval']
forty_fiftyseven_eval = ratings_df[ratings_df['age_group'] == 'between 40 and 57 years']['eval']
fiftyseven_older_eval = ratings_df[ratings_df['age_group'] == '57 years and older']['eval']
f_statistic, p_value = scipy.stats.f_oneway(forty_lower_eval, forty_fiftyseven_eval, fiftyseven_older_eval)
print("F_Statistic: {0}, P-Value: {1}".format(f_statistic,p_value))
F_Statistic: 1.2226327996572204, P-Value: 0.29540894225417536
Conclusion: Since the p-value is greater than 0.05, we will fail to reject the null hypothesis as there is no significant evidence that at least one of the means differ.

Chi-square: Using the teachers' rating data set, is there an association between tenure and gender?
State the hypothesis:

 The proportion of teachers who are tenured is independent of gender
 The proportion of teachers who are tenured is associated with gender
Create a Cross-tab table

cont_table  = pd.crosstab(ratings_df['tenure'], ratings_df['gender'])
cont_table
gender	female	male
tenure		
no	50	52
yes	145	216
Use the scipy.stats library and set correction equals False as that will be the same answer when done by hand, it returns: 𝜒2 value, p-value, degree of freedom, and expected values.

scipy.stats.chi2_contingency(cont_table, correction = True)
(2.20678166999886,
 0.1374050603563787,
 1,
 array([[ 42.95896328,  59.04103672],
        [152.04103672, 208.95896328]]))
Conclusion: Since the p-value is greater than 0.05, we fail to reject the null hypothesis. As there is no sufficient evidence that teachers are tenured as a result of gender.

Correlation: Using the teachers rating dataset, Is teaching evaluation score correlated with beauty score?
State the hypothesis:

 Teaching evaluation score is not correlated with beauty score
 Teaching evaluation score is correlated with beauty score
Since they are both continuous variables we can use a pearson correlation test and draw a scatter plot

ax = sns.scatterplot(x="beauty", y="eval", data=ratings_df)

scipy.stats.pearsonr(ratings_df['beauty'], ratings_df['eval'])
(0.1890390908404521, 4.247115419812614e-05)
Conclusion: Since the p-value (Sig. (2-tailed) < 0.05, we reject the Null hypothesis and conclude that there exists a relationship between beauty and teaching evaluation score.

Practice Questions
Question 1: Using the teachers rating data set, does tenure affect teaching evaluation scores?
Use α = 0.05
## insert code here
scipy.stats.ttest_ind(ratings_df[ratings_df['tenure'] == 'yes']['eval'],
                   ratings_df[ratings_df['tenure'] == 'no']['eval'], equal_var = True)
Ttest_indResult(statistic=-2.8046798258451777, pvalue=0.005249471210198792)
Double-click here for the solution.

Question 2: Using the teachers rating data set, is there an association between age and tenure?
Discretize the age into three groups 40 years and youngers, between 40 and 57 years, 57 years and older (This has already been done for you above.)
What is your conclusion at α = 0.01 and α = 0.05?
## use the chi-square function
scipy.stats.chi2_contingency(cont_table, correction = True)
(2.20678166999886,
 0.1374050603563787,
 1,
 array([[ 42.95896328,  59.04103672],
        [152.04103672, 208.95896328]]))
Double-click here for a hint.

Double-click here for the solution.

Question 3: Test for equality of variance for beauty scores between tenured and non-tenured instructors
Use α = 0.05
### use the levene function to find the p-value and conclusion
scipy.stats.levene(ratings_df[ratings_df['tenure'] == 'yes']['beauty'],
                   ratings_df[ratings_df['tenure'] == 'no']['beauty'], 
                   center='mean')
LeveneResult(statistic=0.4884241652750455, pvalue=0.4849835158609811)
Double-click here for the solution.

Question 4: Using the teachers rating data set, is there an association between visible minorities and tenure?
Use α = 0.05
## insert code here
scipy.stats.chi2_contingency(cont_table, correction = True)
(2.20678166999886,
 0.1374050603563787,
 1,
 array([[ 42.95896328,  59.04103672],
        [152.04103672, 208.95896328]]))
Double-click here for a hint.

Double-click here for the solution.
