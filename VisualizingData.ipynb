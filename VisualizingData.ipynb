cognitiveclass.ai logo
Data Visualization
Estimated time needed: 30 minutes

In this lab, you will learn how to visualize and interpret data

Objectives
Import Libraries
Lab Exercises
Identifying duplicates
Plotting Scatterplots
Plotting Boxplots
Import Libraries
All Libraries required for this lab are listed below. The libraries pre-installed on Skills Network Labs are commented. If you run this notebook in a different environment, e.g. your desktop, you may need to uncomment and install certain libraries.

# !pip install pandas
# !pip install numpy
# !pip install matplotlib
# !pip install seaborn
Import the libraries we need for the lab

import numpy as np
import pandas as pd
import seaborn as sns
import matplotlib.pyplot as plt 

%matplotlib inline
Read in the csv file from the url using the request library

ratings_url = 'teachingratings.csv'
ratings_df = pd.read_csv(ratings_url)
ratings_df
minority	age	gender	credits	beauty	eval	division	native	tenure	students	allstudents	prof	PrimaryLast	vismin	female	single_credit	upper_division	English_speaker	tenured_prof
0	yes	36	female	more	0.289916	4.3	upper	yes	yes	24	43	1	0	1	1	0	1	1	1
1	yes	36	female	more	0.289916	3.7	upper	yes	yes	86	125	1	0	1	1	0	1	1	1
2	yes	36	female	more	0.289916	3.6	upper	yes	yes	76	125	1	0	1	1	0	1	1	1
3	yes	36	female	more	0.289916	4.4	upper	yes	yes	77	123	1	1	1	1	0	1	1	1
4	no	59	male	more	-0.737732	4.5	upper	yes	yes	17	20	2	0	0	0	0	1	1	1
...	...	...	...	...	...	...	...	...	...	...	...	...	...	...	...	...	...	...	...
458	no	37	male	more	0.933396	3.5	upper	yes	yes	15	17	40	1	0	0	0	1	1	1
459	no	58	female	more	0.111563	3.5	upper	yes	yes	26	34	47	1	0	1	0	1	1	1
460	no	42	male	more	-0.900580	4.0	upper	yes	yes	45	86	61	1	0	0	0	1	1	1
461	no	39	male	more	0.643014	4.3	upper	yes	yes	22	29	62	1	0	0	0	1	1	1
462	no	51	female	more	0.391822	3.0	upper	yes	yes	47	67	69	1	0	1	0	1	1	1
463 rows × 19 columns

Lab Exercises
Identify all duplicate cases using prof. Using all observations, find the average and standard deviation for age. Repeat the analysis by first filtering the data set to include one observation for each instructor with a total number of observations restricted to 94.
Identify all duplicate cases using prof variable - find the unique values of the prof variables

ratings_df.prof.unique()
array([ 1,  2,  3,  4,  5,  6,  7,  8,  9, 10, 11, 12, 13, 14, 15, 16, 17,
       18, 19, 20, 21, 23, 24, 25, 26, 27, 28, 29, 31, 32, 33, 34, 35, 36,
       37, 38, 39, 41, 42, 43, 44, 45, 46, 48, 49, 50, 51, 52, 53, 54, 55,
       56, 57, 58, 59, 60, 63, 64, 65, 66, 67, 68, 70, 71, 72, 73, 74, 75,
       76, 77, 78, 79, 80, 81, 82, 83, 84, 85, 86, 87, 88, 89, 90, 91, 92,
       93, 94, 22, 30, 40, 47, 61, 62, 69], dtype=int64)
Print out the number of unique values in the prof variable

ratings_df.prof.nunique()
94
Using all observations, Find the average and standard deviation for age

ratings_df['age'].mean()
48.365010799136066
ratings_df['age'].std()
9.802742037864821
Repeat the analysis by first filtering the data set to include one observation for each instructor with a total number of observations restricted to 94.

first we drop duplicates using prof as a subset and assign it a new dataframe name called no_duplicates_ratings_df

no_duplicates_ratings_df = ratings_df.drop_duplicates(subset =['prof'])
no_duplicates_ratings_df.head()
minority	age	gender	credits	beauty	eval	division	native	tenure	students	allstudents	prof	PrimaryLast	vismin	female	single_credit	upper_division	English_speaker	tenured_prof
0	yes	36	female	more	0.289916	4.3	upper	yes	yes	24	43	1	0	1	1	0	1	1	1
4	no	59	male	more	-0.737732	4.5	upper	yes	yes	17	20	2	0	0	0	0	1	1	1
7	no	51	male	more	-0.571984	3.7	upper	yes	yes	55	55	3	0	0	0	0	1	1	1
9	no	40	female	more	-0.677963	4.3	upper	yes	yes	40	46	4	0	0	1	0	1	1	1
17	no	31	female	more	1.509794	4.4	upper	yes	yes	42	48	5	0	0	1	0	1	1	1
Use the new dataset to get the mean of age

no_duplicates_ratings_df['age'].mean()
47.5531914893617
no_duplicates_ratings_df['age'].std()
10.25651329515495
Using a bar chart, demonstrate if instructors teaching lower-division courses receive higher average teaching evaluations.
ratings_df.head()
minority	age	gender	credits	beauty	eval	division	native	tenure	students	allstudents	prof	PrimaryLast	vismin	female	single_credit	upper_division	English_speaker	tenured_prof
0	yes	36	female	more	0.289916	4.3	upper	yes	yes	24	43	1	0	1	1	0	1	1	1
1	yes	36	female	more	0.289916	3.7	upper	yes	yes	86	125	1	0	1	1	0	1	1	1
2	yes	36	female	more	0.289916	3.6	upper	yes	yes	76	125	1	0	1	1	0	1	1	1
3	yes	36	female	more	0.289916	4.4	upper	yes	yes	77	123	1	1	1	1	0	1	1	1
4	no	59	male	more	-0.737732	4.5	upper	yes	yes	17	20	2	0	0	0	0	1	1	1
Find the average teaching evaluation in both groups of upper and lower-division

division_eval = ratings_df.groupby('division')[['eval']].mean().reset_index()
Plot the barplot using the seaborn library

sns.set(style="whitegrid")
ax = sns.barplot(x="division", y="eval", data=division_eval)

Using gender-differentiated scatter plots, plot the relationship between age and teaching evaluation scores.
Create a scatterplot with the seaborn library

ax = sns.scatterplot(x='age', y='eval', hue='gender',
                     data=ratings_df)

Create a box plot for beauty scores differentiated by credits.
ax = sns.boxplot(x='credits', y='beauty', data=ratings_df)

What is the number of courses taught by gender?
sns.catplot(x='gender', kind='count', data=ratings_df)
<seaborn.axisgrid.FacetGrid at 0x296893b1460>

Create a group histogram of taught by gender and tenure
We will add the hue argument = Tenure

sns.catplot(x='gender', hue = 'tenure', kind='count', data=ratings_df)
<seaborn.axisgrid.FacetGrid at 0x296893ea0d0>

Add division as another factor to the above histogram
We add another argument named row and use the division variable as the row

sns.catplot(x='gender', hue = 'tenure', row = 'division',
            kind='count', data=ratings_df,
            height = 3, aspect = 2)
<seaborn.axisgrid.FacetGrid at 0x296893d8f70>

Does age affect teaching evaluation scores?
sns.relplot(x="age", y="eval", hue="gender",
            row="tenure",
            data=ratings_df, height = 3, aspect = 2)
<seaborn.axisgrid.FacetGrid at 0x29689517f10>

Create a distribution plot of teaching evaluation scores
ax = sns.distplot(ratings_df['eval'], kde = False)

Create a distribution plot of teaching evaluation score with gender as a factor
## use the distplot function from the seaborn library
sns.distplot(ratings_df[ratings_df['gender'] == 'female']['eval'], color='green', kde=False) 
sns.distplot(ratings_df[ratings_df['gender'] == 'male']['eval'], color="orange", kde=False) 
plt.show()

Create a box plot - age of the instructor by gender
ax = sns.boxplot(x="gender", y="age", data=ratings_df)

Compare age along with tenure and gender
ax = sns.boxplot(x="tenure", y="age", hue="gender",
                 data=ratings_df)

Practice Questions
Question 1: Create a distribution plot of beauty scores with Native English speaker as a factor
Make the color of the native English speakers plot - orange and non - native English speakers - blue
## insert code
sns.distplot(ratings_df[ratings_df['native'] == 'yes']['beauty'], color="orange", kde=False) 
sns.distplot(ratings_df[ratings_df['native'] == 'no']['beauty'], color="blue", kde=False) 
plt.show()

Double-click here for the solution.

Question 2: Create a Horizontal box plot of the age of the instructors by visible minority
## insert code
ax = sns.boxplot(x="age", y="minority", data=ratings_df)

Double-click here for a hint.

Double-click here for the solution.

Question 3: Create a group histogram of tenure by minority and add the gender factor
## insert code
sns.catplot(x='tenure', hue = 'minority', row = 'gender',
            kind='count', data=ratings_df,
            height = 3, aspect = 2)
<seaborn.axisgrid.FacetGrid at 0x29689781cd0>

Double-click here for the solution.

Question 4: Create a boxplot of the age variable
## you only have to specify the y-variable
ax = sns.boxplot(y="age", data=ratings_df)

Double-click here for the solution.
